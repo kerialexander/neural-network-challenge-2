{
  "cells": [
    {
      "cell_type": "markdown",
      "metadata": {
        "id": "alIIEHibGc3M"
      },
      "source": [
        "## Part 1: Preprocessing"
      ]
    },
    {
      "cell_type": "code",
      "execution_count": 205,
      "metadata": {
        "colab": {
          "base_uri": "https://localhost:8080/",
          "height": 325
        },
        "id": "6eDUJ4NtGc3P",
        "outputId": "2480098c-135c-4cbf-9552-018494ee8ff5"
      },
      "outputs": [
        {
          "data": {
            "text/html": [
              "<div>\n",
              "<style scoped>\n",
              "    .dataframe tbody tr th:only-of-type {\n",
              "        vertical-align: middle;\n",
              "    }\n",
              "\n",
              "    .dataframe tbody tr th {\n",
              "        vertical-align: top;\n",
              "    }\n",
              "\n",
              "    .dataframe thead th {\n",
              "        text-align: right;\n",
              "    }\n",
              "</style>\n",
              "<table border=\"1\" class=\"dataframe\">\n",
              "  <thead>\n",
              "    <tr style=\"text-align: right;\">\n",
              "      <th></th>\n",
              "      <th>Age</th>\n",
              "      <th>Attrition</th>\n",
              "      <th>BusinessTravel</th>\n",
              "      <th>Department</th>\n",
              "      <th>DistanceFromHome</th>\n",
              "      <th>Education</th>\n",
              "      <th>EducationField</th>\n",
              "      <th>EnvironmentSatisfaction</th>\n",
              "      <th>HourlyRate</th>\n",
              "      <th>JobInvolvement</th>\n",
              "      <th>...</th>\n",
              "      <th>PerformanceRating</th>\n",
              "      <th>RelationshipSatisfaction</th>\n",
              "      <th>StockOptionLevel</th>\n",
              "      <th>TotalWorkingYears</th>\n",
              "      <th>TrainingTimesLastYear</th>\n",
              "      <th>WorkLifeBalance</th>\n",
              "      <th>YearsAtCompany</th>\n",
              "      <th>YearsInCurrentRole</th>\n",
              "      <th>YearsSinceLastPromotion</th>\n",
              "      <th>YearsWithCurrManager</th>\n",
              "    </tr>\n",
              "  </thead>\n",
              "  <tbody>\n",
              "    <tr>\n",
              "      <th>0</th>\n",
              "      <td>41</td>\n",
              "      <td>Yes</td>\n",
              "      <td>Travel_Rarely</td>\n",
              "      <td>Sales</td>\n",
              "      <td>1</td>\n",
              "      <td>2</td>\n",
              "      <td>Life Sciences</td>\n",
              "      <td>2</td>\n",
              "      <td>94</td>\n",
              "      <td>3</td>\n",
              "      <td>...</td>\n",
              "      <td>3</td>\n",
              "      <td>1</td>\n",
              "      <td>0</td>\n",
              "      <td>8</td>\n",
              "      <td>0</td>\n",
              "      <td>1</td>\n",
              "      <td>6</td>\n",
              "      <td>4</td>\n",
              "      <td>0</td>\n",
              "      <td>5</td>\n",
              "    </tr>\n",
              "    <tr>\n",
              "      <th>1</th>\n",
              "      <td>49</td>\n",
              "      <td>No</td>\n",
              "      <td>Travel_Frequently</td>\n",
              "      <td>Research &amp; Development</td>\n",
              "      <td>8</td>\n",
              "      <td>1</td>\n",
              "      <td>Life Sciences</td>\n",
              "      <td>3</td>\n",
              "      <td>61</td>\n",
              "      <td>2</td>\n",
              "      <td>...</td>\n",
              "      <td>4</td>\n",
              "      <td>4</td>\n",
              "      <td>1</td>\n",
              "      <td>10</td>\n",
              "      <td>3</td>\n",
              "      <td>3</td>\n",
              "      <td>10</td>\n",
              "      <td>7</td>\n",
              "      <td>1</td>\n",
              "      <td>7</td>\n",
              "    </tr>\n",
              "    <tr>\n",
              "      <th>2</th>\n",
              "      <td>37</td>\n",
              "      <td>Yes</td>\n",
              "      <td>Travel_Rarely</td>\n",
              "      <td>Research &amp; Development</td>\n",
              "      <td>2</td>\n",
              "      <td>2</td>\n",
              "      <td>Other</td>\n",
              "      <td>4</td>\n",
              "      <td>92</td>\n",
              "      <td>2</td>\n",
              "      <td>...</td>\n",
              "      <td>3</td>\n",
              "      <td>2</td>\n",
              "      <td>0</td>\n",
              "      <td>7</td>\n",
              "      <td>3</td>\n",
              "      <td>3</td>\n",
              "      <td>0</td>\n",
              "      <td>0</td>\n",
              "      <td>0</td>\n",
              "      <td>0</td>\n",
              "    </tr>\n",
              "    <tr>\n",
              "      <th>3</th>\n",
              "      <td>33</td>\n",
              "      <td>No</td>\n",
              "      <td>Travel_Frequently</td>\n",
              "      <td>Research &amp; Development</td>\n",
              "      <td>3</td>\n",
              "      <td>4</td>\n",
              "      <td>Life Sciences</td>\n",
              "      <td>4</td>\n",
              "      <td>56</td>\n",
              "      <td>3</td>\n",
              "      <td>...</td>\n",
              "      <td>3</td>\n",
              "      <td>3</td>\n",
              "      <td>0</td>\n",
              "      <td>8</td>\n",
              "      <td>3</td>\n",
              "      <td>3</td>\n",
              "      <td>8</td>\n",
              "      <td>7</td>\n",
              "      <td>3</td>\n",
              "      <td>0</td>\n",
              "    </tr>\n",
              "    <tr>\n",
              "      <th>4</th>\n",
              "      <td>27</td>\n",
              "      <td>No</td>\n",
              "      <td>Travel_Rarely</td>\n",
              "      <td>Research &amp; Development</td>\n",
              "      <td>2</td>\n",
              "      <td>1</td>\n",
              "      <td>Medical</td>\n",
              "      <td>1</td>\n",
              "      <td>40</td>\n",
              "      <td>3</td>\n",
              "      <td>...</td>\n",
              "      <td>3</td>\n",
              "      <td>4</td>\n",
              "      <td>1</td>\n",
              "      <td>6</td>\n",
              "      <td>3</td>\n",
              "      <td>3</td>\n",
              "      <td>2</td>\n",
              "      <td>2</td>\n",
              "      <td>2</td>\n",
              "      <td>2</td>\n",
              "    </tr>\n",
              "    <tr>\n",
              "      <th>...</th>\n",
              "      <td>...</td>\n",
              "      <td>...</td>\n",
              "      <td>...</td>\n",
              "      <td>...</td>\n",
              "      <td>...</td>\n",
              "      <td>...</td>\n",
              "      <td>...</td>\n",
              "      <td>...</td>\n",
              "      <td>...</td>\n",
              "      <td>...</td>\n",
              "      <td>...</td>\n",
              "      <td>...</td>\n",
              "      <td>...</td>\n",
              "      <td>...</td>\n",
              "      <td>...</td>\n",
              "      <td>...</td>\n",
              "      <td>...</td>\n",
              "      <td>...</td>\n",
              "      <td>...</td>\n",
              "      <td>...</td>\n",
              "      <td>...</td>\n",
              "    </tr>\n",
              "    <tr>\n",
              "      <th>1465</th>\n",
              "      <td>36</td>\n",
              "      <td>No</td>\n",
              "      <td>Travel_Frequently</td>\n",
              "      <td>Research &amp; Development</td>\n",
              "      <td>23</td>\n",
              "      <td>2</td>\n",
              "      <td>Medical</td>\n",
              "      <td>3</td>\n",
              "      <td>41</td>\n",
              "      <td>4</td>\n",
              "      <td>...</td>\n",
              "      <td>3</td>\n",
              "      <td>3</td>\n",
              "      <td>1</td>\n",
              "      <td>17</td>\n",
              "      <td>3</td>\n",
              "      <td>3</td>\n",
              "      <td>5</td>\n",
              "      <td>2</td>\n",
              "      <td>0</td>\n",
              "      <td>3</td>\n",
              "    </tr>\n",
              "    <tr>\n",
              "      <th>1466</th>\n",
              "      <td>39</td>\n",
              "      <td>No</td>\n",
              "      <td>Travel_Rarely</td>\n",
              "      <td>Research &amp; Development</td>\n",
              "      <td>6</td>\n",
              "      <td>1</td>\n",
              "      <td>Medical</td>\n",
              "      <td>4</td>\n",
              "      <td>42</td>\n",
              "      <td>2</td>\n",
              "      <td>...</td>\n",
              "      <td>3</td>\n",
              "      <td>1</td>\n",
              "      <td>1</td>\n",
              "      <td>9</td>\n",
              "      <td>5</td>\n",
              "      <td>3</td>\n",
              "      <td>7</td>\n",
              "      <td>7</td>\n",
              "      <td>1</td>\n",
              "      <td>7</td>\n",
              "    </tr>\n",
              "    <tr>\n",
              "      <th>1467</th>\n",
              "      <td>27</td>\n",
              "      <td>No</td>\n",
              "      <td>Travel_Rarely</td>\n",
              "      <td>Research &amp; Development</td>\n",
              "      <td>4</td>\n",
              "      <td>3</td>\n",
              "      <td>Life Sciences</td>\n",
              "      <td>2</td>\n",
              "      <td>87</td>\n",
              "      <td>4</td>\n",
              "      <td>...</td>\n",
              "      <td>4</td>\n",
              "      <td>2</td>\n",
              "      <td>1</td>\n",
              "      <td>6</td>\n",
              "      <td>0</td>\n",
              "      <td>3</td>\n",
              "      <td>6</td>\n",
              "      <td>2</td>\n",
              "      <td>0</td>\n",
              "      <td>3</td>\n",
              "    </tr>\n",
              "    <tr>\n",
              "      <th>1468</th>\n",
              "      <td>49</td>\n",
              "      <td>No</td>\n",
              "      <td>Travel_Frequently</td>\n",
              "      <td>Sales</td>\n",
              "      <td>2</td>\n",
              "      <td>3</td>\n",
              "      <td>Medical</td>\n",
              "      <td>4</td>\n",
              "      <td>63</td>\n",
              "      <td>2</td>\n",
              "      <td>...</td>\n",
              "      <td>3</td>\n",
              "      <td>4</td>\n",
              "      <td>0</td>\n",
              "      <td>17</td>\n",
              "      <td>3</td>\n",
              "      <td>2</td>\n",
              "      <td>9</td>\n",
              "      <td>6</td>\n",
              "      <td>0</td>\n",
              "      <td>8</td>\n",
              "    </tr>\n",
              "    <tr>\n",
              "      <th>1469</th>\n",
              "      <td>34</td>\n",
              "      <td>No</td>\n",
              "      <td>Travel_Rarely</td>\n",
              "      <td>Research &amp; Development</td>\n",
              "      <td>8</td>\n",
              "      <td>3</td>\n",
              "      <td>Medical</td>\n",
              "      <td>2</td>\n",
              "      <td>82</td>\n",
              "      <td>4</td>\n",
              "      <td>...</td>\n",
              "      <td>3</td>\n",
              "      <td>1</td>\n",
              "      <td>0</td>\n",
              "      <td>6</td>\n",
              "      <td>3</td>\n",
              "      <td>4</td>\n",
              "      <td>4</td>\n",
              "      <td>3</td>\n",
              "      <td>1</td>\n",
              "      <td>2</td>\n",
              "    </tr>\n",
              "  </tbody>\n",
              "</table>\n",
              "<p>1470 rows × 27 columns</p>\n",
              "</div>"
            ],
            "text/plain": [
              "      Age Attrition     BusinessTravel              Department  \\\n",
              "0      41       Yes      Travel_Rarely                   Sales   \n",
              "1      49        No  Travel_Frequently  Research & Development   \n",
              "2      37       Yes      Travel_Rarely  Research & Development   \n",
              "3      33        No  Travel_Frequently  Research & Development   \n",
              "4      27        No      Travel_Rarely  Research & Development   \n",
              "...   ...       ...                ...                     ...   \n",
              "1465   36        No  Travel_Frequently  Research & Development   \n",
              "1466   39        No      Travel_Rarely  Research & Development   \n",
              "1467   27        No      Travel_Rarely  Research & Development   \n",
              "1468   49        No  Travel_Frequently                   Sales   \n",
              "1469   34        No      Travel_Rarely  Research & Development   \n",
              "\n",
              "      DistanceFromHome  Education EducationField  EnvironmentSatisfaction  \\\n",
              "0                    1          2  Life Sciences                        2   \n",
              "1                    8          1  Life Sciences                        3   \n",
              "2                    2          2          Other                        4   \n",
              "3                    3          4  Life Sciences                        4   \n",
              "4                    2          1        Medical                        1   \n",
              "...                ...        ...            ...                      ...   \n",
              "1465                23          2        Medical                        3   \n",
              "1466                 6          1        Medical                        4   \n",
              "1467                 4          3  Life Sciences                        2   \n",
              "1468                 2          3        Medical                        4   \n",
              "1469                 8          3        Medical                        2   \n",
              "\n",
              "      HourlyRate  JobInvolvement  ...  PerformanceRating  \\\n",
              "0             94               3  ...                  3   \n",
              "1             61               2  ...                  4   \n",
              "2             92               2  ...                  3   \n",
              "3             56               3  ...                  3   \n",
              "4             40               3  ...                  3   \n",
              "...          ...             ...  ...                ...   \n",
              "1465          41               4  ...                  3   \n",
              "1466          42               2  ...                  3   \n",
              "1467          87               4  ...                  4   \n",
              "1468          63               2  ...                  3   \n",
              "1469          82               4  ...                  3   \n",
              "\n",
              "     RelationshipSatisfaction  StockOptionLevel TotalWorkingYears  \\\n",
              "0                           1                 0                 8   \n",
              "1                           4                 1                10   \n",
              "2                           2                 0                 7   \n",
              "3                           3                 0                 8   \n",
              "4                           4                 1                 6   \n",
              "...                       ...               ...               ...   \n",
              "1465                        3                 1                17   \n",
              "1466                        1                 1                 9   \n",
              "1467                        2                 1                 6   \n",
              "1468                        4                 0                17   \n",
              "1469                        1                 0                 6   \n",
              "\n",
              "      TrainingTimesLastYear WorkLifeBalance  YearsAtCompany  \\\n",
              "0                         0               1               6   \n",
              "1                         3               3              10   \n",
              "2                         3               3               0   \n",
              "3                         3               3               8   \n",
              "4                         3               3               2   \n",
              "...                     ...             ...             ...   \n",
              "1465                      3               3               5   \n",
              "1466                      5               3               7   \n",
              "1467                      0               3               6   \n",
              "1468                      3               2               9   \n",
              "1469                      3               4               4   \n",
              "\n",
              "      YearsInCurrentRole  YearsSinceLastPromotion  YearsWithCurrManager  \n",
              "0                      4                        0                     5  \n",
              "1                      7                        1                     7  \n",
              "2                      0                        0                     0  \n",
              "3                      7                        3                     0  \n",
              "4                      2                        2                     2  \n",
              "...                  ...                      ...                   ...  \n",
              "1465                   2                        0                     3  \n",
              "1466                   7                        1                     7  \n",
              "1467                   2                        0                     3  \n",
              "1468                   6                        0                     8  \n",
              "1469                   3                        1                     2  \n",
              "\n",
              "[1470 rows x 27 columns]"
            ]
          },
          "metadata": {},
          "output_type": "display_data"
        },
        {
          "data": {
            "text/plain": [
              "Department\n",
              "Research & Development    961\n",
              "Sales                     446\n",
              "Human Resources            63\n",
              "Name: count, dtype: int64"
            ]
          },
          "execution_count": 205,
          "metadata": {},
          "output_type": "execute_result"
        }
      ],
      "source": [
        "# Import our dependencies\n",
        "from sklearn.model_selection import train_test_split\n",
        "from sklearn.preprocessing import StandardScaler\n",
        "import pandas as pd\n",
        "import numpy as np\n",
        "from tensorflow.keras.models import Model\n",
        "from tensorflow.keras import layers\n",
        "\n",
        "#  Import and read the attrition data\n",
        "attrition_df = pd.read_csv('https://static.bc-edx.com/ai/ail-v-1-0/m19/lms/datasets/attrition.csv')\n",
        "display(attrition_df)\n",
        "attrition_df['Department'].value_counts()"
      ]
    },
    {
      "cell_type": "code",
      "execution_count": 206,
      "metadata": {
        "colab": {
          "base_uri": "https://localhost:8080/"
        },
        "id": "g22aQSY4Gc3Q",
        "outputId": "1f5c13c1-b981-4e40-a7ed-dd3fe6f1b81e"
      },
      "outputs": [
        {
          "data": {
            "text/plain": [
              "Age                         43\n",
              "Attrition                    2\n",
              "BusinessTravel               3\n",
              "Department                   3\n",
              "DistanceFromHome            29\n",
              "Education                    5\n",
              "EducationField               6\n",
              "EnvironmentSatisfaction      4\n",
              "HourlyRate                  71\n",
              "JobInvolvement               4\n",
              "JobLevel                     5\n",
              "JobRole                      9\n",
              "JobSatisfaction              4\n",
              "MaritalStatus                3\n",
              "NumCompaniesWorked          10\n",
              "OverTime                     2\n",
              "PercentSalaryHike           15\n",
              "PerformanceRating            2\n",
              "RelationshipSatisfaction     4\n",
              "StockOptionLevel             4\n",
              "TotalWorkingYears           40\n",
              "TrainingTimesLastYear        7\n",
              "WorkLifeBalance              4\n",
              "YearsAtCompany              37\n",
              "YearsInCurrentRole          19\n",
              "YearsSinceLastPromotion     16\n",
              "YearsWithCurrManager        18\n",
              "dtype: int64"
            ]
          },
          "execution_count": 206,
          "metadata": {},
          "output_type": "execute_result"
        }
      ],
      "source": [
        "# Determine the number of unique values in each column.\n",
        "attrition_df.nunique()"
      ]
    },
    {
      "cell_type": "code",
      "execution_count": 207,
      "metadata": {
        "id": "50vMgBEnJbfM"
      },
      "outputs": [
        {
          "data": {
            "text/html": [
              "<div>\n",
              "<style scoped>\n",
              "    .dataframe tbody tr th:only-of-type {\n",
              "        vertical-align: middle;\n",
              "    }\n",
              "\n",
              "    .dataframe tbody tr th {\n",
              "        vertical-align: top;\n",
              "    }\n",
              "\n",
              "    .dataframe thead th {\n",
              "        text-align: right;\n",
              "    }\n",
              "</style>\n",
              "<table border=\"1\" class=\"dataframe\">\n",
              "  <thead>\n",
              "    <tr style=\"text-align: right;\">\n",
              "      <th></th>\n",
              "      <th>Attrition</th>\n",
              "      <th>Department</th>\n",
              "    </tr>\n",
              "  </thead>\n",
              "  <tbody>\n",
              "    <tr>\n",
              "      <th>0</th>\n",
              "      <td>Yes</td>\n",
              "      <td>Sales</td>\n",
              "    </tr>\n",
              "    <tr>\n",
              "      <th>1</th>\n",
              "      <td>No</td>\n",
              "      <td>Research &amp; Development</td>\n",
              "    </tr>\n",
              "    <tr>\n",
              "      <th>2</th>\n",
              "      <td>Yes</td>\n",
              "      <td>Research &amp; Development</td>\n",
              "    </tr>\n",
              "    <tr>\n",
              "      <th>3</th>\n",
              "      <td>No</td>\n",
              "      <td>Research &amp; Development</td>\n",
              "    </tr>\n",
              "    <tr>\n",
              "      <th>4</th>\n",
              "      <td>No</td>\n",
              "      <td>Research &amp; Development</td>\n",
              "    </tr>\n",
              "  </tbody>\n",
              "</table>\n",
              "</div>"
            ],
            "text/plain": [
              "  Attrition              Department\n",
              "0       Yes                   Sales\n",
              "1        No  Research & Development\n",
              "2       Yes  Research & Development\n",
              "3        No  Research & Development\n",
              "4        No  Research & Development"
            ]
          },
          "execution_count": 207,
          "metadata": {},
          "output_type": "execute_result"
        }
      ],
      "source": [
        "# Create y_df with the Attrition and Department columns\n",
        "y_df = attrition_df[['Attrition', 'Department']]\n",
        "y_df.head()\n"
      ]
    },
    {
      "cell_type": "code",
      "execution_count": 208,
      "metadata": {
        "colab": {
          "base_uri": "https://localhost:8080/"
        },
        "id": "Virka0zLGc3R",
        "outputId": "dd5aee3a-9458-4ba6-e857-1b234de40915"
      },
      "outputs": [
        {
          "data": {
            "text/plain": [
              "Age                         int64\n",
              "DistanceFromHome            int64\n",
              "JobSatisfaction             int64\n",
              "OverTime                   object\n",
              "StockOptionLevel            int64\n",
              "WorkLifeBalance             int64\n",
              "YearsAtCompany              int64\n",
              "YearsInCurrentRole          int64\n",
              "YearsSinceLastPromotion     int64\n",
              "NumCompaniesWorked          int64\n",
              "dtype: object"
            ]
          },
          "execution_count": 208,
          "metadata": {},
          "output_type": "execute_result"
        }
      ],
      "source": [
        "# Create a list of at least 10 column names to use as X data\n",
        "columns = ['Age','DistanceFromHome', 'JobSatisfaction', 'OverTime', 'StockOptionLevel', 'WorkLifeBalance', 'YearsAtCompany', 'YearsInCurrentRole', 'YearsSinceLastPromotion', 'NumCompaniesWorked']\n",
        "           \n",
        "# Create X_df using your selected columns\n",
        "X_df = attrition_df[columns]\n",
        "\n",
        "# Show the data types for X_df\n",
        "X_df.dtypes\n"
      ]
    },
    {
      "cell_type": "code",
      "execution_count": 209,
      "metadata": {
        "id": "KaJfdOGUMHMR"
      },
      "outputs": [],
      "source": [
        "# Split the data into training and testing sets\n",
        "from sklearn.model_selection import train_test_split\n",
        "X_train, X_test, y_train, y_test = train_test_split(X_df, y_df, random_state=78)\n"
      ]
    },
    {
      "cell_type": "code",
      "execution_count": 210,
      "metadata": {
        "colab": {
          "base_uri": "https://localhost:8080/"
        },
        "id": "NYubUJqiLCSp",
        "outputId": "53f31721-571c-4c94-d13e-25a715749593"
      },
      "outputs": [],
      "source": [
        "# Convert your X data to numeric data types however you see fit\n",
        "# Add new code cells as necessary\n",
        "\n",
        "from sklearn.preprocessing import OneHotEncoder\n",
        "OverTime_encoder = OneHotEncoder(sparse_output=False, drop='first', handle_unknown='ignore')\n",
        "OverTime_encoder.fit(np.array(X_train['OverTime']).reshape(-1,1))\n",
        "X_train['OverTimeEncoded'] = OverTime_encoder.transform(np.array(X_train['OverTime']).reshape(-1,1))\n",
        "X_test['OverTimeEncoded'] = OverTime_encoder.transform(np.array(X_test['OverTime']).reshape(-1,1))\n",
        "X_train = X_train.drop('OverTime', axis=1)\n",
        "X_test = X_test.drop('OverTime', axis=1)"
      ]
    },
    {
      "cell_type": "code",
      "execution_count": 211,
      "metadata": {
        "id": "EWA-aIA5Gc3T"
      },
      "outputs": [],
      "source": [
        "# Create a StandardScaler\n",
        "from sklearn.preprocessing import StandardScaler\n",
        "scaler = StandardScaler()\n",
        "\n",
        "# Fit the StandardScaler to the training data\n",
        "X_scaler = scaler.fit(X_train)\n",
        "\n",
        "# Scale the training and testing data\n",
        "X_train_scaled = X_scaler.transform(X_train)\n",
        "X_test_scaled = X_scaler.transform(X_test)"
      ]
    },
    {
      "cell_type": "code",
      "execution_count": 212,
      "metadata": {
        "colab": {
          "base_uri": "https://localhost:8080/"
        },
        "id": "-z0Mky8vQSz4",
        "outputId": "debefc85-c20b-48f5-f4d9-91eadd65d36a"
      },
      "outputs": [
        {
          "data": {
            "text/plain": [
              "array([[0., 0., 1.],\n",
              "       [0., 1., 0.],\n",
              "       [0., 0., 1.],\n",
              "       ...,\n",
              "       [0., 1., 0.],\n",
              "       [0., 0., 1.],\n",
              "       [0., 1., 0.]])"
            ]
          },
          "execution_count": 212,
          "metadata": {},
          "output_type": "execute_result"
        }
      ],
      "source": [
        "# Create a OneHotEncoder for the Department column\n",
        "from sklearn.preprocessing import OneHotEncoder\n",
        "department_encoder = OneHotEncoder(sparse_output=False, drop=None, handle_unknown='ignore')\n",
        "\n",
        "# Fit the encoder to the training data\n",
        "department_encoder.fit(np.array(y_train['Department']).reshape(-1,1))\n",
        "\n",
        "# Create two new variables by applying the encoder\n",
        "# to the training and testing data\n",
        "y_department_train_encoded = department_encoder.transform(np.array(y_train['Department']).reshape(-1,1))\n",
        "y_department_test_encoded = department_encoder.transform(np.array(y_test['Department']).reshape(-1,1))\n",
        "y_department_train_encoded\n"
      ]
    },
    {
      "cell_type": "code",
      "execution_count": 213,
      "metadata": {
        "colab": {
          "base_uri": "https://localhost:8080/"
        },
        "id": "-G4DSpvFRrk4",
        "outputId": "9842e948-8a55-4b80-8fac-f96714e85589"
      },
      "outputs": [
        {
          "data": {
            "text/plain": [
              "array([[0., 1.],\n",
              "       [1., 0.],\n",
              "       [0., 1.],\n",
              "       ...,\n",
              "       [1., 0.],\n",
              "       [1., 0.],\n",
              "       [0., 1.]])"
            ]
          },
          "execution_count": 213,
          "metadata": {},
          "output_type": "execute_result"
        }
      ],
      "source": [
        "# Create a OneHotEncoder for the Attrition column\n",
        "from sklearn.preprocessing import OneHotEncoder\n",
        "attrition_encoded = OneHotEncoder(sparse_output=False, drop=None, handle_unknown='ignore')\n",
        "\n",
        "# Fit the encoder to the training data\n",
        "attrition_encoded.fit(np.array(y_train['Attrition']).reshape(-1,1))\n",
        "\n",
        "# Create two new variables by applying the encoder\n",
        "# to the training and testing data\n",
        "y_attrition_train_encoded = attrition_encoded.transform(np.array(y_train['Attrition']).reshape(-1,1))\n",
        "y_attrition_test_encoded = attrition_encoded.transform(np.array(y_test['Attrition']).reshape(-1,1))\n",
        "y_attrition_train_encoded"
      ]
    },
    {
      "cell_type": "markdown",
      "metadata": {
        "id": "ykNmu_WWGc3T"
      },
      "source": [
        "## Create, Compile, and Train the Model"
      ]
    },
    {
      "cell_type": "code",
      "execution_count": 214,
      "metadata": {
        "id": "WUptZqmSGc3T"
      },
      "outputs": [
        {
          "name": "stdout",
          "output_type": "stream",
          "text": [
            "10\n"
          ]
        }
      ],
      "source": [
        "# Find the number of columns in the X training data\n",
        "input_features = len(X_train_scaled[0])\n",
        "\n",
        "# Create the input layer\n",
        "input = layers.Input(shape=(input_features,))\n",
        "print(input_features)\n",
        "\n",
        "# Create at least two shared layers\n",
        "shared_1 = layers.Dense(64, activation='relu')(input)\n",
        "shared_2 = layers.Dense(128, activation='relu')(shared_1)"
      ]
    },
    {
      "cell_type": "code",
      "execution_count": 215,
      "metadata": {
        "id": "JukjTm2yTEqd"
      },
      "outputs": [],
      "source": [
        "# Create a branch for Department\n",
        "# with a hidden layer and an output layer\n",
        "\n",
        "# Create the hidden layer\n",
        "hidden_layer_department = layers.Dense(32, activation='relu')(shared_2)\n",
        "\n",
        "# Create the output layer\n",
        "department_output = layers.Dense(3, activation='sigmoid', name='department_output')(hidden_layer_department)"
      ]
    },
    {
      "cell_type": "code",
      "execution_count": 216,
      "metadata": {
        "id": "9OqhUiOJUBkR"
      },
      "outputs": [],
      "source": [
        "# Create a branch for Attrition\n",
        "# with a hidden layer and an output layer\n",
        "\n",
        "# Create the hidden layer\n",
        "hidden_layer_attrition = layers.Dense(32, activation='relu')(shared_2)\n",
        "\n",
        "# Create the output layer\n",
        "attrition_output = layers.Dense(y_attrition_train_encoded.shape[1], activation='sigmoid', name='attrition_output')(hidden_layer_attrition)"
      ]
    },
    {
      "cell_type": "code",
      "execution_count": 217,
      "metadata": {
        "colab": {
          "base_uri": "https://localhost:8080/"
        },
        "id": "twmuejdxGc3T",
        "outputId": "25096308-b68b-42e4-e4ea-ae82e97c435a"
      },
      "outputs": [
        {
          "name": "stdout",
          "output_type": "stream",
          "text": [
            "Model: \"model_9\"\n",
            "__________________________________________________________________________________________________\n",
            " Layer (type)                   Output Shape         Param #     Connected to                     \n",
            "==================================================================================================\n",
            " input_10 (InputLayer)          [(None, 10)]         0           []                               \n",
            "                                                                                                  \n",
            " dense_45 (Dense)               (None, 64)           704         ['input_10[0][0]']               \n",
            "                                                                                                  \n",
            " dense_46 (Dense)               (None, 128)          8320        ['dense_45[0][0]']               \n",
            "                                                                                                  \n",
            " dense_47 (Dense)               (None, 32)           4128        ['dense_46[0][0]']               \n"
          ]
        },
        {
          "name": "stdout",
          "output_type": "stream",
          "text": [
            "                                                                                                  \n",
            " dense_48 (Dense)               (None, 32)           4128        ['dense_46[0][0]']               \n",
            "                                                                                                  \n",
            " department_output (Dense)      (None, 3)            99          ['dense_47[0][0]']               \n",
            "                                                                                                  \n",
            " attrition_output (Dense)       (None, 2)            66          ['dense_48[0][0]']               \n",
            "                                                                                                  \n",
            "==================================================================================================\n",
            "Total params: 17,445\n",
            "Trainable params: 17,445\n",
            "Non-trainable params: 0\n",
            "__________________________________________________________________________________________________\n"
          ]
        }
      ],
      "source": [
        "# Create the model\n",
        "model = Model(inputs=input, outputs=[department_output, attrition_output])\n",
        "\n",
        "# Compile the model\n",
        "model.compile(optimizer='adam',\n",
        "              loss={\n",
        "                  'department_output': 'categorical_crossentropy',\n",
        "                  'attrition_output': 'binary_crossentropy'\n",
        "              },\n",
        "              metrics={\n",
        "                  'department_output': 'accuracy',\n",
        "                  'attrition_output': 'accuracy'\n",
        "              })\n",
        "\n",
        "# Summarize the model\n",
        "model.summary()"
      ]
    },
    {
      "cell_type": "code",
      "execution_count": 218,
      "metadata": {},
      "outputs": [
        {
          "data": {
            "text/plain": [
              "'2.10.1'"
            ]
          },
          "execution_count": 218,
          "metadata": {},
          "output_type": "execute_result"
        }
      ],
      "source": [
        "import tensorflow as tf\n",
        "tf.__version__"
      ]
    },
    {
      "cell_type": "code",
      "execution_count": 219,
      "metadata": {
        "colab": {
          "base_uri": "https://localhost:8080/"
        },
        "id": "c8oGy0dpGc3U",
        "outputId": "cc667d43-28cf-42d4-d719-c2bc02888d30"
      },
      "outputs": [
        {
          "name": "stdout",
          "output_type": "stream",
          "text": [
            "Epoch 1/100\n",
            "35/35 [==============================] - 1s 2ms/step - loss: 1.3425 - department_output_loss: 0.8135 - attrition_output_loss: 0.5290 - department_output_accuracy: 0.6379 - attrition_output_accuracy: 0.8049\n",
            "Epoch 2/100\n",
            "35/35 [==============================] - 0s 2ms/step - loss: 1.1865 - department_output_loss: 0.7567 - attrition_output_loss: 0.4298 - department_output_accuracy: 0.6670 - attrition_output_accuracy: 0.8285\n",
            "Epoch 3/100\n",
            "35/35 [==============================] - 0s 2ms/step - loss: 1.1415 - department_output_loss: 0.7435 - attrition_output_loss: 0.3979 - department_output_accuracy: 0.6679 - attrition_output_accuracy: 0.8448\n",
            "Epoch 4/100\n",
            "35/35 [==============================] - 0s 2ms/step - loss: 1.1174 - department_output_loss: 0.7318 - attrition_output_loss: 0.3856 - department_output_accuracy: 0.6688 - attrition_output_accuracy: 0.8494\n",
            "Epoch 5/100\n",
            "35/35 [==============================] - 0s 2ms/step - loss: 1.0949 - department_output_loss: 0.7231 - attrition_output_loss: 0.3719 - department_output_accuracy: 0.6661 - attrition_output_accuracy: 0.8530\n",
            "Epoch 6/100\n",
            "35/35 [==============================] - 0s 2ms/step - loss: 1.0793 - department_output_loss: 0.7167 - attrition_output_loss: 0.3625 - department_output_accuracy: 0.6679 - attrition_output_accuracy: 0.8584\n",
            "Epoch 7/100\n",
            "35/35 [==============================] - 0s 3ms/step - loss: 1.0596 - department_output_loss: 0.7026 - attrition_output_loss: 0.3569 - department_output_accuracy: 0.6733 - attrition_output_accuracy: 0.8621\n",
            "Epoch 8/100\n",
            "35/35 [==============================] - 0s 2ms/step - loss: 1.0537 - department_output_loss: 0.7052 - attrition_output_loss: 0.3486 - department_output_accuracy: 0.6706 - attrition_output_accuracy: 0.8675\n",
            "Epoch 9/100\n",
            "35/35 [==============================] - 0s 2ms/step - loss: 1.0274 - department_output_loss: 0.6862 - attrition_output_loss: 0.3412 - department_output_accuracy: 0.6688 - attrition_output_accuracy: 0.8721\n",
            "Epoch 10/100\n",
            "35/35 [==============================] - 0s 2ms/step - loss: 1.0155 - department_output_loss: 0.6806 - attrition_output_loss: 0.3349 - department_output_accuracy: 0.6742 - attrition_output_accuracy: 0.8757\n",
            "Epoch 11/100\n",
            "35/35 [==============================] - 0s 2ms/step - loss: 0.9941 - department_output_loss: 0.6665 - attrition_output_loss: 0.3276 - department_output_accuracy: 0.6951 - attrition_output_accuracy: 0.8657\n",
            "Epoch 12/100\n",
            "35/35 [==============================] - 0s 2ms/step - loss: 0.9890 - department_output_loss: 0.6626 - attrition_output_loss: 0.3264 - department_output_accuracy: 0.6969 - attrition_output_accuracy: 0.8684\n",
            "Epoch 13/100\n",
            "35/35 [==============================] - 0s 2ms/step - loss: 0.9650 - department_output_loss: 0.6505 - attrition_output_loss: 0.3145 - department_output_accuracy: 0.6897 - attrition_output_accuracy: 0.8766\n",
            "Epoch 14/100\n",
            "35/35 [==============================] - 0s 2ms/step - loss: 0.9486 - department_output_loss: 0.6388 - attrition_output_loss: 0.3098 - department_output_accuracy: 0.7005 - attrition_output_accuracy: 0.8766\n",
            "Epoch 15/100\n",
            "35/35 [==============================] - 0s 2ms/step - loss: 0.9353 - department_output_loss: 0.6303 - attrition_output_loss: 0.3050 - department_output_accuracy: 0.7078 - attrition_output_accuracy: 0.8766\n",
            "Epoch 16/100\n",
            "35/35 [==============================] - 0s 2ms/step - loss: 0.9211 - department_output_loss: 0.6190 - attrition_output_loss: 0.3021 - department_output_accuracy: 0.7169 - attrition_output_accuracy: 0.8757\n",
            "Epoch 17/100\n",
            "35/35 [==============================] - 0s 2ms/step - loss: 0.9059 - department_output_loss: 0.6055 - attrition_output_loss: 0.3004 - department_output_accuracy: 0.7260 - attrition_output_accuracy: 0.8802\n",
            "Epoch 18/100\n",
            "35/35 [==============================] - 0s 2ms/step - loss: 0.8832 - department_output_loss: 0.5941 - attrition_output_loss: 0.2890 - department_output_accuracy: 0.7232 - attrition_output_accuracy: 0.8829\n",
            "Epoch 19/100\n",
            "35/35 [==============================] - 0s 2ms/step - loss: 0.8678 - department_output_loss: 0.5809 - attrition_output_loss: 0.2869 - department_output_accuracy: 0.7505 - attrition_output_accuracy: 0.8838\n",
            "Epoch 20/100\n",
            "35/35 [==============================] - 0s 2ms/step - loss: 0.8511 - department_output_loss: 0.5685 - attrition_output_loss: 0.2826 - department_output_accuracy: 0.7441 - attrition_output_accuracy: 0.8857\n",
            "Epoch 21/100\n",
            "35/35 [==============================] - 0s 2ms/step - loss: 0.8313 - department_output_loss: 0.5573 - attrition_output_loss: 0.2740 - department_output_accuracy: 0.7505 - attrition_output_accuracy: 0.8893\n",
            "Epoch 22/100\n",
            "35/35 [==============================] - 0s 2ms/step - loss: 0.8154 - department_output_loss: 0.5442 - attrition_output_loss: 0.2713 - department_output_accuracy: 0.7541 - attrition_output_accuracy: 0.8938\n",
            "Epoch 23/100\n",
            "35/35 [==============================] - 0s 2ms/step - loss: 0.8017 - department_output_loss: 0.5297 - attrition_output_loss: 0.2720 - department_output_accuracy: 0.7722 - attrition_output_accuracy: 0.8857\n",
            "Epoch 24/100\n",
            "35/35 [==============================] - 0s 2ms/step - loss: 0.7778 - department_output_loss: 0.5112 - attrition_output_loss: 0.2666 - department_output_accuracy: 0.7786 - attrition_output_accuracy: 0.8893\n",
            "Epoch 25/100\n",
            "35/35 [==============================] - 0s 2ms/step - loss: 0.7622 - department_output_loss: 0.5083 - attrition_output_loss: 0.2539 - department_output_accuracy: 0.7786 - attrition_output_accuracy: 0.8947\n",
            "Epoch 26/100\n",
            "35/35 [==============================] - 0s 2ms/step - loss: 0.7385 - department_output_loss: 0.4874 - attrition_output_loss: 0.2511 - department_output_accuracy: 0.7958 - attrition_output_accuracy: 0.8938\n",
            "Epoch 27/100\n",
            "35/35 [==============================] - 0s 2ms/step - loss: 0.7211 - department_output_loss: 0.4766 - attrition_output_loss: 0.2445 - department_output_accuracy: 0.7949 - attrition_output_accuracy: 0.8956\n",
            "Epoch 28/100\n",
            "35/35 [==============================] - 0s 2ms/step - loss: 0.7084 - department_output_loss: 0.4642 - attrition_output_loss: 0.2441 - department_output_accuracy: 0.8067 - attrition_output_accuracy: 0.8947\n",
            "Epoch 29/100\n",
            "35/35 [==============================] - 0s 3ms/step - loss: 0.6867 - department_output_loss: 0.4465 - attrition_output_loss: 0.2402 - department_output_accuracy: 0.8131 - attrition_output_accuracy: 0.9011\n",
            "Epoch 30/100\n",
            "35/35 [==============================] - 0s 2ms/step - loss: 0.6658 - department_output_loss: 0.4395 - attrition_output_loss: 0.2263 - department_output_accuracy: 0.8294 - attrition_output_accuracy: 0.9083\n",
            "Epoch 31/100\n",
            "35/35 [==============================] - 0s 2ms/step - loss: 0.6524 - department_output_loss: 0.4305 - attrition_output_loss: 0.2219 - department_output_accuracy: 0.8267 - attrition_output_accuracy: 0.9083\n",
            "Epoch 32/100\n",
            "35/35 [==============================] - 0s 2ms/step - loss: 0.6351 - department_output_loss: 0.4104 - attrition_output_loss: 0.2247 - department_output_accuracy: 0.8330 - attrition_output_accuracy: 0.9056\n",
            "Epoch 33/100\n",
            "35/35 [==============================] - 0s 2ms/step - loss: 0.6096 - department_output_loss: 0.3950 - attrition_output_loss: 0.2146 - department_output_accuracy: 0.8330 - attrition_output_accuracy: 0.9120\n",
            "Epoch 34/100\n",
            "35/35 [==============================] - 0s 2ms/step - loss: 0.5901 - department_output_loss: 0.3831 - attrition_output_loss: 0.2070 - department_output_accuracy: 0.8475 - attrition_output_accuracy: 0.9201\n",
            "Epoch 35/100\n",
            "35/35 [==============================] - 0s 2ms/step - loss: 0.5793 - department_output_loss: 0.3721 - attrition_output_loss: 0.2072 - department_output_accuracy: 0.8457 - attrition_output_accuracy: 0.9156\n",
            "Epoch 36/100\n",
            "35/35 [==============================] - 0s 2ms/step - loss: 0.5763 - department_output_loss: 0.3649 - attrition_output_loss: 0.2114 - department_output_accuracy: 0.8603 - attrition_output_accuracy: 0.9102\n",
            "Epoch 37/100\n",
            "35/35 [==============================] - 0s 2ms/step - loss: 0.5613 - department_output_loss: 0.3636 - attrition_output_loss: 0.1977 - department_output_accuracy: 0.8521 - attrition_output_accuracy: 0.9229\n",
            "Epoch 38/100\n",
            "35/35 [==============================] - 0s 2ms/step - loss: 0.5388 - department_output_loss: 0.3484 - attrition_output_loss: 0.1905 - department_output_accuracy: 0.8566 - attrition_output_accuracy: 0.9211\n",
            "Epoch 39/100\n",
            "35/35 [==============================] - 0s 2ms/step - loss: 0.5275 - department_output_loss: 0.3424 - attrition_output_loss: 0.1852 - department_output_accuracy: 0.8702 - attrition_output_accuracy: 0.9283\n",
            "Epoch 40/100\n",
            "35/35 [==============================] - 0s 2ms/step - loss: 0.5104 - department_output_loss: 0.3253 - attrition_output_loss: 0.1851 - department_output_accuracy: 0.8757 - attrition_output_accuracy: 0.9265\n",
            "Epoch 41/100\n",
            "35/35 [==============================] - 0s 2ms/step - loss: 0.4827 - department_output_loss: 0.3062 - attrition_output_loss: 0.1766 - department_output_accuracy: 0.8820 - attrition_output_accuracy: 0.9310\n",
            "Epoch 42/100\n",
            "35/35 [==============================] - 0s 2ms/step - loss: 0.4927 - department_output_loss: 0.3070 - attrition_output_loss: 0.1857 - department_output_accuracy: 0.8802 - attrition_output_accuracy: 0.9201\n",
            "Epoch 43/100\n",
            "35/35 [==============================] - 0s 2ms/step - loss: 0.4675 - department_output_loss: 0.2916 - attrition_output_loss: 0.1758 - department_output_accuracy: 0.8902 - attrition_output_accuracy: 0.9310\n",
            "Epoch 44/100\n",
            "35/35 [==============================] - 0s 2ms/step - loss: 0.4421 - department_output_loss: 0.2793 - attrition_output_loss: 0.1628 - department_output_accuracy: 0.8975 - attrition_output_accuracy: 0.9456\n",
            "Epoch 45/100\n",
            "35/35 [==============================] - 0s 2ms/step - loss: 0.4260 - department_output_loss: 0.2684 - attrition_output_loss: 0.1576 - department_output_accuracy: 0.9029 - attrition_output_accuracy: 0.9401\n",
            "Epoch 46/100\n",
            "35/35 [==============================] - 0s 2ms/step - loss: 0.4279 - department_output_loss: 0.2686 - attrition_output_loss: 0.1593 - department_output_accuracy: 0.8938 - attrition_output_accuracy: 0.9456\n",
            "Epoch 47/100\n",
            "35/35 [==============================] - 0s 2ms/step - loss: 0.4025 - department_output_loss: 0.2492 - attrition_output_loss: 0.1533 - department_output_accuracy: 0.9111 - attrition_output_accuracy: 0.9392\n",
            "Epoch 48/100\n",
            "35/35 [==============================] - 0s 2ms/step - loss: 0.4155 - department_output_loss: 0.2535 - attrition_output_loss: 0.1619 - department_output_accuracy: 0.9038 - attrition_output_accuracy: 0.9347\n",
            "Epoch 49/100\n",
            "35/35 [==============================] - 0s 3ms/step - loss: 0.3738 - department_output_loss: 0.2326 - attrition_output_loss: 0.1412 - department_output_accuracy: 0.9192 - attrition_output_accuracy: 0.9546\n",
            "Epoch 50/100\n",
            "35/35 [==============================] - 0s 2ms/step - loss: 0.3695 - department_output_loss: 0.2309 - attrition_output_loss: 0.1386 - department_output_accuracy: 0.9238 - attrition_output_accuracy: 0.9537\n",
            "Epoch 51/100\n",
            "35/35 [==============================] - 0s 2ms/step - loss: 0.3473 - department_output_loss: 0.2146 - attrition_output_loss: 0.1327 - department_output_accuracy: 0.9229 - attrition_output_accuracy: 0.9555\n",
            "Epoch 52/100\n",
            "35/35 [==============================] - 0s 2ms/step - loss: 0.3372 - department_output_loss: 0.2073 - attrition_output_loss: 0.1298 - department_output_accuracy: 0.9328 - attrition_output_accuracy: 0.9592\n",
            "Epoch 53/100\n",
            "35/35 [==============================] - 0s 2ms/step - loss: 0.3320 - department_output_loss: 0.2058 - attrition_output_loss: 0.1262 - department_output_accuracy: 0.9392 - attrition_output_accuracy: 0.9583\n",
            "Epoch 54/100\n",
            "35/35 [==============================] - 0s 2ms/step - loss: 0.3319 - department_output_loss: 0.2054 - attrition_output_loss: 0.1265 - department_output_accuracy: 0.9328 - attrition_output_accuracy: 0.9574\n",
            "Epoch 55/100\n",
            "35/35 [==============================] - 0s 2ms/step - loss: 0.3169 - department_output_loss: 0.1877 - attrition_output_loss: 0.1292 - department_output_accuracy: 0.9428 - attrition_output_accuracy: 0.9619\n",
            "Epoch 56/100\n",
            "35/35 [==============================] - 0s 2ms/step - loss: 0.3035 - department_output_loss: 0.1837 - attrition_output_loss: 0.1199 - department_output_accuracy: 0.9419 - attrition_output_accuracy: 0.9619\n",
            "Epoch 57/100\n",
            "35/35 [==============================] - 0s 2ms/step - loss: 0.2986 - department_output_loss: 0.1876 - attrition_output_loss: 0.1110 - department_output_accuracy: 0.9419 - attrition_output_accuracy: 0.9682\n",
            "Epoch 58/100\n",
            "35/35 [==============================] - 0s 2ms/step - loss: 0.2836 - department_output_loss: 0.1737 - attrition_output_loss: 0.1099 - department_output_accuracy: 0.9528 - attrition_output_accuracy: 0.9646\n",
            "Epoch 59/100\n",
            "35/35 [==============================] - 0s 2ms/step - loss: 0.2764 - department_output_loss: 0.1648 - attrition_output_loss: 0.1116 - department_output_accuracy: 0.9583 - attrition_output_accuracy: 0.9601\n",
            "Epoch 60/100\n",
            "35/35 [==============================] - 0s 2ms/step - loss: 0.2747 - department_output_loss: 0.1659 - attrition_output_loss: 0.1088 - department_output_accuracy: 0.9456 - attrition_output_accuracy: 0.9628\n",
            "Epoch 61/100\n",
            "35/35 [==============================] - 0s 3ms/step - loss: 0.2782 - department_output_loss: 0.1723 - attrition_output_loss: 0.1059 - department_output_accuracy: 0.9474 - attrition_output_accuracy: 0.9610\n",
            "Epoch 62/100\n",
            "35/35 [==============================] - 0s 2ms/step - loss: 0.2871 - department_output_loss: 0.1846 - attrition_output_loss: 0.1025 - department_output_accuracy: 0.9383 - attrition_output_accuracy: 0.9673\n",
            "Epoch 63/100\n",
            "35/35 [==============================] - 0s 2ms/step - loss: 0.2539 - department_output_loss: 0.1405 - attrition_output_loss: 0.1134 - department_output_accuracy: 0.9601 - attrition_output_accuracy: 0.9574\n",
            "Epoch 64/100\n",
            "35/35 [==============================] - 0s 2ms/step - loss: 0.2519 - department_output_loss: 0.1447 - attrition_output_loss: 0.1073 - department_output_accuracy: 0.9574 - attrition_output_accuracy: 0.9646\n",
            "Epoch 65/100\n",
            "35/35 [==============================] - 0s 2ms/step - loss: 0.2289 - department_output_loss: 0.1324 - attrition_output_loss: 0.0964 - department_output_accuracy: 0.9691 - attrition_output_accuracy: 0.9691\n",
            "Epoch 66/100\n",
            "35/35 [==============================] - 0s 2ms/step - loss: 0.2211 - department_output_loss: 0.1323 - attrition_output_loss: 0.0887 - department_output_accuracy: 0.9601 - attrition_output_accuracy: 0.9737\n",
            "Epoch 67/100\n",
            "35/35 [==============================] - 0s 2ms/step - loss: 0.2102 - department_output_loss: 0.1244 - attrition_output_loss: 0.0858 - department_output_accuracy: 0.9710 - attrition_output_accuracy: 0.9746\n",
            "Epoch 68/100\n",
            "35/35 [==============================] - 0s 2ms/step - loss: 0.2147 - department_output_loss: 0.1279 - attrition_output_loss: 0.0867 - department_output_accuracy: 0.9673 - attrition_output_accuracy: 0.9728\n",
            "Epoch 69/100\n",
            "35/35 [==============================] - 0s 2ms/step - loss: 0.2159 - department_output_loss: 0.1292 - attrition_output_loss: 0.0867 - department_output_accuracy: 0.9691 - attrition_output_accuracy: 0.9737\n",
            "Epoch 70/100\n",
            "35/35 [==============================] - 0s 2ms/step - loss: 0.2176 - department_output_loss: 0.1241 - attrition_output_loss: 0.0935 - department_output_accuracy: 0.9701 - attrition_output_accuracy: 0.9682\n",
            "Epoch 71/100\n",
            "35/35 [==============================] - 0s 2ms/step - loss: 0.1814 - department_output_loss: 0.0997 - attrition_output_loss: 0.0817 - department_output_accuracy: 0.9828 - attrition_output_accuracy: 0.9737\n",
            "Epoch 72/100\n",
            "35/35 [==============================] - 0s 2ms/step - loss: 0.1839 - department_output_loss: 0.1041 - attrition_output_loss: 0.0798 - department_output_accuracy: 0.9764 - attrition_output_accuracy: 0.9737\n",
            "Epoch 73/100\n",
            "35/35 [==============================] - 0s 2ms/step - loss: 0.1750 - department_output_loss: 0.0969 - attrition_output_loss: 0.0781 - department_output_accuracy: 0.9782 - attrition_output_accuracy: 0.9764\n",
            "Epoch 74/100\n",
            "35/35 [==============================] - 0s 2ms/step - loss: 0.1667 - department_output_loss: 0.0962 - attrition_output_loss: 0.0705 - department_output_accuracy: 0.9791 - attrition_output_accuracy: 0.9828\n",
            "Epoch 75/100\n",
            "35/35 [==============================] - 0s 2ms/step - loss: 0.1533 - department_output_loss: 0.0860 - attrition_output_loss: 0.0673 - department_output_accuracy: 0.9791 - attrition_output_accuracy: 0.9800\n",
            "Epoch 76/100\n",
            "35/35 [==============================] - 0s 2ms/step - loss: 0.1503 - department_output_loss: 0.0847 - attrition_output_loss: 0.0656 - department_output_accuracy: 0.9837 - attrition_output_accuracy: 0.9819\n",
            "Epoch 77/100\n",
            "35/35 [==============================] - 0s 2ms/step - loss: 0.1449 - department_output_loss: 0.0802 - attrition_output_loss: 0.0647 - department_output_accuracy: 0.9846 - attrition_output_accuracy: 0.9809\n",
            "Epoch 78/100\n",
            "35/35 [==============================] - 0s 2ms/step - loss: 0.1518 - department_output_loss: 0.0802 - attrition_output_loss: 0.0716 - department_output_accuracy: 0.9828 - attrition_output_accuracy: 0.9746\n",
            "Epoch 79/100\n",
            "35/35 [==============================] - 0s 2ms/step - loss: 0.1314 - department_output_loss: 0.0717 - attrition_output_loss: 0.0597 - department_output_accuracy: 0.9891 - attrition_output_accuracy: 0.9828\n",
            "Epoch 80/100\n",
            "35/35 [==============================] - 0s 2ms/step - loss: 0.1349 - department_output_loss: 0.0760 - attrition_output_loss: 0.0589 - department_output_accuracy: 0.9837 - attrition_output_accuracy: 0.9828\n",
            "Epoch 81/100\n",
            "35/35 [==============================] - 0s 2ms/step - loss: 0.1374 - department_output_loss: 0.0730 - attrition_output_loss: 0.0644 - department_output_accuracy: 0.9846 - attrition_output_accuracy: 0.9800\n",
            "Epoch 82/100\n",
            "35/35 [==============================] - 0s 2ms/step - loss: 0.1250 - department_output_loss: 0.0667 - attrition_output_loss: 0.0584 - department_output_accuracy: 0.9927 - attrition_output_accuracy: 0.9819\n",
            "Epoch 83/100\n",
            "35/35 [==============================] - 0s 2ms/step - loss: 0.1212 - department_output_loss: 0.0643 - attrition_output_loss: 0.0569 - department_output_accuracy: 0.9918 - attrition_output_accuracy: 0.9873\n",
            "Epoch 84/100\n",
            "35/35 [==============================] - 0s 2ms/step - loss: 0.1148 - department_output_loss: 0.0613 - attrition_output_loss: 0.0536 - department_output_accuracy: 0.9936 - attrition_output_accuracy: 0.9846\n",
            "Epoch 85/100\n",
            "35/35 [==============================] - 0s 2ms/step - loss: 0.1143 - department_output_loss: 0.0623 - attrition_output_loss: 0.0520 - department_output_accuracy: 0.9900 - attrition_output_accuracy: 0.9837\n",
            "Epoch 86/100\n",
            "35/35 [==============================] - 0s 2ms/step - loss: 0.1206 - department_output_loss: 0.0628 - attrition_output_loss: 0.0578 - department_output_accuracy: 0.9900 - attrition_output_accuracy: 0.9828\n",
            "Epoch 87/100\n",
            "35/35 [==============================] - 0s 2ms/step - loss: 0.1083 - department_output_loss: 0.0583 - attrition_output_loss: 0.0499 - department_output_accuracy: 0.9900 - attrition_output_accuracy: 0.9873\n",
            "Epoch 88/100\n",
            "35/35 [==============================] - 0s 2ms/step - loss: 0.1224 - department_output_loss: 0.0739 - attrition_output_loss: 0.0484 - department_output_accuracy: 0.9828 - attrition_output_accuracy: 0.9846\n",
            "Epoch 89/100\n",
            "35/35 [==============================] - 0s 2ms/step - loss: 0.1291 - department_output_loss: 0.0732 - attrition_output_loss: 0.0559 - department_output_accuracy: 0.9846 - attrition_output_accuracy: 0.9819\n",
            "Epoch 90/100\n",
            "35/35 [==============================] - 0s 2ms/step - loss: 0.1108 - department_output_loss: 0.0657 - attrition_output_loss: 0.0451 - department_output_accuracy: 0.9855 - attrition_output_accuracy: 0.9909\n",
            "Epoch 91/100\n",
            "35/35 [==============================] - 0s 2ms/step - loss: 0.0984 - department_output_loss: 0.0561 - attrition_output_loss: 0.0423 - department_output_accuracy: 0.9936 - attrition_output_accuracy: 0.9891\n",
            "Epoch 92/100\n",
            "35/35 [==============================] - 0s 2ms/step - loss: 0.0970 - department_output_loss: 0.0591 - attrition_output_loss: 0.0379 - department_output_accuracy: 0.9891 - attrition_output_accuracy: 0.9900\n",
            "Epoch 93/100\n",
            "35/35 [==============================] - 0s 2ms/step - loss: 0.0847 - department_output_loss: 0.0456 - attrition_output_loss: 0.0390 - department_output_accuracy: 0.9982 - attrition_output_accuracy: 0.9909\n",
            "Epoch 94/100\n",
            "35/35 [==============================] - 0s 2ms/step - loss: 0.0891 - department_output_loss: 0.0566 - attrition_output_loss: 0.0325 - department_output_accuracy: 0.9864 - attrition_output_accuracy: 0.9936\n",
            "Epoch 95/100\n",
            "35/35 [==============================] - 0s 2ms/step - loss: 0.0855 - department_output_loss: 0.0485 - attrition_output_loss: 0.0370 - department_output_accuracy: 0.9918 - attrition_output_accuracy: 0.9900\n",
            "Epoch 96/100\n",
            "35/35 [==============================] - 0s 2ms/step - loss: 0.0890 - department_output_loss: 0.0488 - attrition_output_loss: 0.0402 - department_output_accuracy: 0.9946 - attrition_output_accuracy: 0.9873\n",
            "Epoch 97/100\n",
            "35/35 [==============================] - 0s 3ms/step - loss: 0.0724 - department_output_loss: 0.0389 - attrition_output_loss: 0.0335 - department_output_accuracy: 0.9982 - attrition_output_accuracy: 0.9900\n",
            "Epoch 98/100\n",
            "35/35 [==============================] - 0s 2ms/step - loss: 0.0829 - department_output_loss: 0.0374 - attrition_output_loss: 0.0455 - department_output_accuracy: 0.9964 - attrition_output_accuracy: 0.9873\n",
            "Epoch 99/100\n",
            "35/35 [==============================] - 0s 2ms/step - loss: 0.0697 - department_output_loss: 0.0379 - attrition_output_loss: 0.0318 - department_output_accuracy: 0.9955 - attrition_output_accuracy: 0.9900\n",
            "Epoch 100/100\n",
            "35/35 [==============================] - 0s 2ms/step - loss: 0.0665 - department_output_loss: 0.0361 - attrition_output_loss: 0.0304 - department_output_accuracy: 0.9955 - attrition_output_accuracy: 0.9946\n"
          ]
        }
      ],
      "source": [
        "# Train the model\n",
        "fit_model = model.fit(X_train_scaled,{'department_output': y_department_train_encoded, 'attrition_output': y_attrition_train_encoded},epochs=100)"
      ]
    },
    {
      "cell_type": "code",
      "execution_count": 223,
      "metadata": {
        "colab": {
          "base_uri": "https://localhost:8080/"
        },
        "id": "VsMoaQlgGc3U",
        "outputId": "1bd4e601-e964-4abc-ad83-aeecf6b696be"
      },
      "outputs": [
        {
          "name": "stdout",
          "output_type": "stream",
          "text": [
            "12/12 [==============================] - 0s 1ms/step - loss: 4.1812 - department_output_loss: 3.3184 - attrition_output_loss: 0.8628 - department_output_accuracy: 0.5000 - attrition_output_accuracy: 0.8424\n",
            "Model Loss: 4.181197643280029\n",
            "Department Loss: 3.3183939456939697\n",
            "Attrition Loss: 0.8628035187721252\n",
            "Department Accuracy: 0.5\n",
            "Attrition Accuracy: 0.842391312122345\n"
          ]
        }
      ],
      "source": [
        "# Evaluate the model with the testing data\n",
        "results = model.evaluate(X_test_scaled, {'department_output': y_department_test_encoded, 'attrition_output': y_attrition_test_encoded})\n",
        "\n",
        "# Unpack the results\n",
        "model_loss = results[0]\n",
        "department_loss = results[1]\n",
        "attrition_loss = results[2]\n",
        "department_accuracy = results[3]\n",
        "attrition_accuracy = results[4]\n",
        "\n",
        "print(f\"Model Loss: {model_loss}\")\n",
        "print(f\"Department Loss: {department_loss}\")\n",
        "print(f\"Attrition Loss: {attrition_loss}\")\n",
        "print(f\"Department Accuracy: {department_accuracy}\")\n",
        "print(f\"Attrition Accuracy: {attrition_accuracy}\")"
      ]
    },
    {
      "cell_type": "code",
      "execution_count": 225,
      "metadata": {
        "colab": {
          "base_uri": "https://localhost:8080/"
        },
        "id": "ZlCtlHi0Vt54",
        "outputId": "bc21ef3e-80c2-4b38-9c29-79515bc23dec"
      },
      "outputs": [
        {
          "name": "stdout",
          "output_type": "stream",
          "text": [
            "Department Accuracy: 0.5\n",
            "Attrition Accuracy: 0.842391312122345\n"
          ]
        }
      ],
      "source": [
        "# Print the accuracy for both department and attrition\n",
        "print(f\"Department Accuracy: {department_accuracy}\")\n",
        "print(f\"Attrition Accuracy: {attrition_accuracy}\")\n"
      ]
    },
    {
      "cell_type": "markdown",
      "metadata": {
        "id": "eGSyfsZfWOQM"
      },
      "source": [
        "# Summary\n",
        "\n",
        "In the provided space below, briefly answer the following questions.\n",
        "\n",
        "1. Is accuracy the best metric to use on this data? Why or why not?\n",
        "\n",
        "2. What activation functions did you choose for your output layers, and why?\n",
        "\n",
        "3. Can you name a few ways that this model might be improved?"
      ]
    },
    {
      "cell_type": "markdown",
      "metadata": {
        "id": "pi9SLpFnWvbF"
      },
      "source": [
        "YOUR ANSWERS HERE\n",
        "\n",
        "1. \n",
        "2. \n",
        "3. "
      ]
    },
    {
      "cell_type": "markdown",
      "metadata": {},
      "source": []
    }
  ],
  "metadata": {
    "colab": {
      "provenance": []
    },
    "kernelspec": {
      "display_name": "dev",
      "language": "python",
      "name": "python3"
    },
    "language_info": {
      "codemirror_mode": {
        "name": "ipython",
        "version": 3
      },
      "file_extension": ".py",
      "mimetype": "text/x-python",
      "name": "python",
      "nbconvert_exporter": "python",
      "pygments_lexer": "ipython3",
      "version": "3.10.14"
    }
  },
  "nbformat": 4,
  "nbformat_minor": 0
}
